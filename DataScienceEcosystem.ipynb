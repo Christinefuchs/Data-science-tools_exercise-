{
 "cells": [
  {
   "cell_type": "markdown",
   "id": "5f906169-0057-4820-8212-66f33edb3f0f",
   "metadata": {
    "tags": []
   },
   "source": [
    "# Data Science Tools and Ecosystem"
   ]
  },
  {
   "cell_type": "markdown",
   "id": "7640a9f4-691c-48c4-8ef9-471068f827e3",
   "metadata": {
    "tags": []
   },
   "source": [
    "### In this notebook, Data Science Tools and Ecosystem are summarized."
   ]
  },
  {
   "cell_type": "markdown",
   "id": "1a981277-43f4-480e-a4c7-76e015d263da",
   "metadata": {
    "tags": []
   },
   "source": [
    "**Objectives:**\n",
    "* List popular languages for Data Science\n",
    "* List popular libraries used in Data Science\n",
    "* List popular Data Science tools"
   ]
  },
  {
   "cell_type": "markdown",
   "id": "4a632d2f-5aab-4db4-a372-a7c269d3087e",
   "metadata": {},
   "source": [
    "*Some of the popular languages that Data Scientists use are:*\n",
    "1. Python\n",
    "2. R\n",
    "3. Julia\n",
    "4. Java\n",
    "5. SQL"
   ]
  },
  {
   "cell_type": "markdown",
   "id": "4e0574db-3e49-4aca-849c-f0c64e75e7b8",
   "metadata": {},
   "source": [
    "*Some of the commonly used libraries used by Data Scientists include:*\n",
    "1. scikit-learn\n",
    "2. TensorFlow\n",
    "3. Pytorch"
   ]
  },
  {
   "cell_type": "markdown",
   "id": "983400f0-d649-4789-80e3-7a8956defbdf",
   "metadata": {},
   "source": [
    "|    Data Science Tools    | \n",
    "| ------------------------ |\n",
    "| RStudio                  |\n",
    "| TensorFlow               |\n",
    "| Apache Spark             | "
   ]
  },
  {
   "cell_type": "markdown",
   "id": "bb19e0ab-8207-4448-840f-2700ed85cba3",
   "metadata": {},
   "source": [
    "### Below are a few examples of evaluating arithmetic expressions in Python"
   ]
  },
  {
   "cell_type": "code",
   "execution_count": 5,
   "id": "1e2481e7-dfe4-4215-bb22-172c9c0643a0",
   "metadata": {
    "tags": []
   },
   "outputs": [
    {
     "data": {
      "text/plain": [
       "17"
      ]
     },
     "execution_count": 5,
     "metadata": {},
     "output_type": "execute_result"
    }
   ],
   "source": [
    "#This a simple arithmetic expression to mutiply then add integers\n",
    "(3*4)+5"
   ]
  },
  {
   "cell_type": "code",
   "execution_count": 6,
   "id": "840ce1d1-1306-4a31-bf95-abc9563cc2e9",
   "metadata": {
    "tags": []
   },
   "outputs": [
    {
     "data": {
      "text/plain": [
       "3.3333333333333335"
      ]
     },
     "execution_count": 6,
     "metadata": {},
     "output_type": "execute_result"
    }
   ],
   "source": [
    "# This will convert 200 minutes to hours by diving by 60\n",
    "200/60"
   ]
  },
  {
   "cell_type": "markdown",
   "id": "758b9fe5-6e64-4c7d-a4a9-12b6f0ca03ed",
   "metadata": {
    "tags": []
   },
   "source": [
    "## Author:\n",
    "Christine"
   ]
  },
  {
   "cell_type": "code",
   "execution_count": null,
   "id": "573a26df-9473-4ad9-bad6-2e9a2e72d85d",
   "metadata": {},
   "outputs": [],
   "source": []
  }
 ],
 "metadata": {
  "kernelspec": {
   "display_name": "Python",
   "language": "python",
   "name": "conda-env-python-py"
  },
  "language_info": {
   "codemirror_mode": {
    "name": "ipython",
    "version": 3
   },
   "file_extension": ".py",
   "mimetype": "text/x-python",
   "name": "python",
   "nbconvert_exporter": "python",
   "pygments_lexer": "ipython3",
   "version": "3.7.12"
  }
 },
 "nbformat": 4,
 "nbformat_minor": 5
}
